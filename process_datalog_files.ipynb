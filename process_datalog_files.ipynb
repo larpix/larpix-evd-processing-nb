{
 "cells": [
  {
   "cell_type": "markdown",
   "metadata": {},
   "source": [
    "# Notebook for processing LArPix datalog hdf5 files\n",
    "Converts LArPix raw hdf5 files (typically with a signature `datalog*_.h5`) into event display files (`datalog*_evd.h5`). The event display files contain hits collected into events and fit with a simple PCA track fitter."
   ]
  },
  {
   "cell_type": "code",
   "execution_count": null,
   "metadata": {
    "jupyter": {
     "source_hidden": true
    }
   },
   "outputs": [],
   "source": [
    "import os\n",
    "import sys\n",
    "import glob\n",
    "larpix_geometry_libpath = '/global/project/projectdirs/dune/users/pmadigan/larpix/larpix-software/larpix-geometry/'\n",
    "sys.path.append(larpix_geometry_libpath)\n",
    "evd_libpath = '/global/project/projectdirs/dune/users/pmadigan/larpix/larpix-software/larpix-v2-testing-scripts/event-display/'\n",
    "sys.path.append(evd_libpath)"
   ]
  },
  {
   "cell_type": "markdown",
   "metadata": {},
   "source": [
    "## Set up paths and processing configuration"
   ]
  },
  {
   "cell_type": "code",
   "execution_count": null,
   "metadata": {},
   "outputs": [],
   "source": [
    "raw_datapath = '/global/project/projectdirs/dune/data/larpix/raw_data/raw_20_10_12/500_V_cm/'\n",
    "raw_filestring = 'datalog*_.h5'\n",
    "\n",
    "out_datapath = os.path.join(os.environ['SCRATCH'],'evd/')\n",
    "out_filestring = '{}_evd.h5' # filled with raw file basename\n",
    "\n",
    "skip_existing = False"
   ]
  },
  {
   "cell_type": "code",
   "execution_count": null,
   "metadata": {},
   "outputs": [],
   "source": [
    "processing_args = dict(\n",
    "    configuration_file='/global/project/projectdirs/dune/users/pmadigan/larpix/larpix-calib/datalog_2020_10_12_16_45_30_PDT_config.json',\n",
    "    geometry_file='/global/project/projectdirs/dune/users/pmadigan/larpix/larpix-software/larpix-geometry/larpixgeometry/layouts/layout-2.3.0.yaml',\n",
    "    pedestal_file='/global/project/projectdirs/dune/users/pmadigan/larpix/larpix-calib/datalog_2020_10_12_16_45_30_PDT_pedestal.json',\n",
    "    buffer_size=38400,\n",
    "    event_dt=150, # clock ticks\n",
    "    nhit_cut=2,\n",
    "    max_packets=-1\n",
    ")"
   ]
  },
  {
   "cell_type": "code",
   "execution_count": 4,
   "metadata": {
    "jupyter": {
     "source_hidden": true
    }
   },
   "outputs": [
    {
     "name": "stdout",
     "output_type": "stream",
     "text": [
      "fetched:\n",
      "datalog_2020_10_12_17_44_33_PDT_.h5\n",
      "datalog_2020_10_12_16_45_30_PDT_.h5\n",
      "datalog_2020_10_12_16_24_35_PDT_.h5\n",
      "datalog_2020_10_12_17_14_10_PDT_.h5\n",
      "datalog_2020_10_12_18_05_20_PDT_.h5\n",
      "datalog_2020_10_12_16_49_35_PDT_.h5\n",
      "datalog_2020_10_12_17_20_05_PDT_.h5\n",
      "datalog_2020_10_12_17_40_19_PDT_.h5\n",
      "datalog_2020_10_12_18_31_07_PDT_.h5\n",
      "datalog_2020_10_12_18_09_31_PDT_.h5\n"
     ]
    }
   ],
   "source": [
    "input_files = glob.glob(os.path.join(raw_datapath, raw_filestring))\n",
    "print('fetched:')\n",
    "for file in input_files:\n",
    "    print(os.path.basename(file))"
   ]
  },
  {
   "cell_type": "markdown",
   "metadata": {},
   "source": [
    "## Loop over input files"
   ]
  },
  {
   "cell_type": "code",
   "execution_count": null,
   "metadata": {
    "jupyter": {
     "source_hidden": true
    }
   },
   "outputs": [
    {
     "name": "stdout",
     "output_type": "stream",
     "text": [
      "\n",
      "deleting existing file /global/cscratch1/sd/pmadigan/test/datalog_2020_10_12_17_44_33_PDT_evd.h5 ...\n",
      "buffer_size \t:\t 38400\n",
      "configuration_file \t:\t /global/project/projectdirs/dune/users/pmadigan/larpix/larpix-calib/datalog_2020_10_12_16_45_30_PDT_config.json\n",
      "event_dt \t:\t 150\n",
      "geometry_file \t:\t /global/project/projectdirs/dune/users/pmadigan/larpix/larpix-software/larpix-geometry/larpixgeometry/layouts/layout-2.3.0.yaml\n",
      "in_filename \t:\t /global/project/projectdirs/dune/data/larpix/raw_data/raw_20_10_12/500_V_cm/datalog_2020_10_12_17_44_33_PDT_.h5\n",
      "max_packets \t:\t -1\n",
      "nhit_cut \t:\t 2\n",
      "out_filename \t:\t /global/cscratch1/sd/pmadigan/test/datalog_2020_10_12_17_44_33_PDT_evd.h5\n",
      "pedestal_file \t:\t /global/project/projectdirs/dune/users/pmadigan/larpix/larpix-calib/datalog_2020_10_12_16_45_30_PDT_pedestal.json\n",
      "packets parsed: 1211609\tevents found: 55655...Done!\n",
      "flushing to disk...\n",
      "done\n",
      "\n",
      "deleting existing file /global/cscratch1/sd/pmadigan/test/datalog_2020_10_12_16_45_30_PDT_evd.h5 ...\n",
      "buffer_size \t:\t 38400\n",
      "configuration_file \t:\t /global/project/projectdirs/dune/users/pmadigan/larpix/larpix-calib/datalog_2020_10_12_16_45_30_PDT_config.json\n",
      "event_dt \t:\t 150\n",
      "geometry_file \t:\t /global/project/projectdirs/dune/users/pmadigan/larpix/larpix-software/larpix-geometry/larpixgeometry/layouts/layout-2.3.0.yaml\n",
      "in_filename \t:\t /global/project/projectdirs/dune/data/larpix/raw_data/raw_20_10_12/500_V_cm/datalog_2020_10_12_16_45_30_PDT_.h5\n",
      "max_packets \t:\t -1\n",
      "nhit_cut \t:\t 2\n",
      "out_filename \t:\t /global/cscratch1/sd/pmadigan/test/datalog_2020_10_12_16_45_30_PDT_evd.h5\n",
      "pedestal_file \t:\t /global/project/projectdirs/dune/users/pmadigan/larpix/larpix-calib/datalog_2020_10_12_16_45_30_PDT_pedestal.json\n",
      "packets parsed: 407527\tevents found: 9261...Done!\n",
      "flushing to disk...\n",
      "done\n",
      "\n",
      "deleting existing file /global/cscratch1/sd/pmadigan/test/datalog_2020_10_12_16_24_35_PDT_evd.h5 ...\n",
      "buffer_size \t:\t 38400\n",
      "configuration_file \t:\t /global/project/projectdirs/dune/users/pmadigan/larpix/larpix-calib/datalog_2020_10_12_16_45_30_PDT_config.json\n",
      "event_dt \t:\t 150\n",
      "geometry_file \t:\t /global/project/projectdirs/dune/users/pmadigan/larpix/larpix-software/larpix-geometry/larpixgeometry/layouts/layout-2.3.0.yaml\n",
      "in_filename \t:\t /global/project/projectdirs/dune/data/larpix/raw_data/raw_20_10_12/500_V_cm/datalog_2020_10_12_16_24_35_PDT_.h5\n",
      "max_packets \t:\t -1\n",
      "nhit_cut \t:\t 2\n",
      "out_filename \t:\t /global/cscratch1/sd/pmadigan/test/datalog_2020_10_12_16_24_35_PDT_evd.h5\n",
      "pedestal_file \t:\t /global/project/projectdirs/dune/users/pmadigan/larpix/larpix-calib/datalog_2020_10_12_16_45_30_PDT_pedestal.json\n",
      "packets parsed: 1302046\tevents found: 63003...Done!\n",
      "flushing to disk...\n",
      "done\n",
      "\n",
      "deleting existing file /global/cscratch1/sd/pmadigan/test/datalog_2020_10_12_17_14_10_PDT_evd.h5 ...\n",
      "buffer_size \t:\t 38400\n",
      "configuration_file \t:\t /global/project/projectdirs/dune/users/pmadigan/larpix/larpix-calib/datalog_2020_10_12_16_45_30_PDT_config.json\n",
      "event_dt \t:\t 150\n",
      "geometry_file \t:\t /global/project/projectdirs/dune/users/pmadigan/larpix/larpix-software/larpix-geometry/larpixgeometry/layouts/layout-2.3.0.yaml\n",
      "in_filename \t:\t /global/project/projectdirs/dune/data/larpix/raw_data/raw_20_10_12/500_V_cm/datalog_2020_10_12_17_14_10_PDT_.h5\n",
      "max_packets \t:\t -1\n",
      "nhit_cut \t:\t 2\n",
      "out_filename \t:\t /global/cscratch1/sd/pmadigan/test/datalog_2020_10_12_17_14_10_PDT_evd.h5\n",
      "pedestal_file \t:\t /global/project/projectdirs/dune/users/pmadigan/larpix/larpix-calib/datalog_2020_10_12_16_45_30_PDT_pedestal.json\n",
      "packets parsed: 407811\tevents found: 11189...Done!\n",
      "flushing to disk...\n",
      "done\n",
      "\n",
      "deleting existing file /global/cscratch1/sd/pmadigan/test/datalog_2020_10_12_18_05_20_PDT_evd.h5 ...\n",
      "buffer_size \t:\t 38400\n",
      "configuration_file \t:\t /global/project/projectdirs/dune/users/pmadigan/larpix/larpix-calib/datalog_2020_10_12_16_45_30_PDT_config.json\n",
      "event_dt \t:\t 150\n",
      "geometry_file \t:\t /global/project/projectdirs/dune/users/pmadigan/larpix/larpix-software/larpix-geometry/larpixgeometry/layouts/layout-2.3.0.yaml\n",
      "in_filename \t:\t /global/project/projectdirs/dune/data/larpix/raw_data/raw_20_10_12/500_V_cm/datalog_2020_10_12_18_05_20_PDT_.h5\n",
      "max_packets \t:\t -1\n",
      "nhit_cut \t:\t 2\n",
      "out_filename \t:\t /global/cscratch1/sd/pmadigan/test/datalog_2020_10_12_18_05_20_PDT_evd.h5\n",
      "pedestal_file \t:\t /global/project/projectdirs/dune/users/pmadigan/larpix/larpix-calib/datalog_2020_10_12_16_45_30_PDT_pedestal.json\n",
      "packets parsed: 407779\tevents found: 8278...Done!\n",
      "flushing to disk...\n",
      "done\n",
      "\n",
      "deleting existing file /global/cscratch1/sd/pmadigan/test/datalog_2020_10_12_16_49_35_PDT_evd.h5 ...\n",
      "buffer_size \t:\t 38400\n",
      "configuration_file \t:\t /global/project/projectdirs/dune/users/pmadigan/larpix/larpix-calib/datalog_2020_10_12_16_45_30_PDT_config.json\n",
      "event_dt \t:\t 150\n",
      "geometry_file \t:\t /global/project/projectdirs/dune/users/pmadigan/larpix/larpix-software/larpix-geometry/larpixgeometry/layouts/layout-2.3.0.yaml\n",
      "in_filename \t:\t /global/project/projectdirs/dune/data/larpix/raw_data/raw_20_10_12/500_V_cm/datalog_2020_10_12_16_49_35_PDT_.h5\n",
      "max_packets \t:\t -1\n",
      "nhit_cut \t:\t 2\n",
      "out_filename \t:\t /global/cscratch1/sd/pmadigan/test/datalog_2020_10_12_16_49_35_PDT_evd.h5\n",
      "pedestal_file \t:\t /global/project/projectdirs/dune/users/pmadigan/larpix/larpix-calib/datalog_2020_10_12_16_45_30_PDT_pedestal.json\n",
      "packets parsed: 960000\tevents found: 46080...\r"
     ]
    }
   ],
   "source": [
    "import to_evd_file\n",
    "for in_filename in input_files:\n",
    "    print()\n",
    "    processing_args['in_filename'] = in_filename\n",
    "    processing_args['out_filename'] = os.path.abspath(os.path.join(out_datapath,out_filestring).format(os.path.basename(in_filename.split('_.h5')[0])))\n",
    "    out_dirname = os.path.dirname(processing_args['out_filename'])\n",
    "    if not os.path.exists(out_dirname):\n",
    "        print('making directory',out_dirname,'...')\n",
    "        os.makedirs(out_dirname)\n",
    "    if os.path.exists(processing_args['out_filename']) and not skip_existing:\n",
    "        print('deleting existing file',processing_args['out_filename'],'...')\n",
    "        os.remove(processing_args['out_filename'])\n",
    "    elif os.path.exists(processing_args['out_filename']) and skip_existing:\n",
    "        print('skipping existing file',processing_args['out_filename'],'...')\n",
    "        continue\n",
    "        \n",
    "    # run!\n",
    "    for key, arg in sorted(processing_args.items()):\n",
    "        print(key,'\\t:\\t',arg)\n",
    "    to_evd_file.main(**processing_args)\n",
    "    \n",
    "print('Done!')"
   ]
  },
  {
   "cell_type": "markdown",
   "metadata": {},
   "source": [
    "# Event display\n",
    "Use this to view files that were generated."
   ]
  },
  {
   "cell_type": "code",
   "execution_count": null,
   "metadata": {
    "jupyter": {
     "source_hidden": true
    }
   },
   "outputs": [],
   "source": [
    "import quick_display\n",
    "import ipywidgets as widgets\n",
    "import numpy as np"
   ]
  },
  {
   "cell_type": "code",
   "execution_count": null,
   "metadata": {
    "jupyter": {
     "source_hidden": true
    }
   },
   "outputs": [],
   "source": [
    "%matplotlib widget\n",
    "geom = [-155.15,155.15,-155.15,155.15,0,150,4.434,50]\n",
    "output_files = sorted([os.path.basename(path) for path in glob.glob(out_datapath+'/*.h5')])\n",
    "fig = None\n",
    "@widgets.interact\n",
    "def display(event_id=widgets.IntText(value=0, description='Index:'),\n",
    "           filename=widgets.Dropdown(options=output_files, description=\"File\"),\n",
    "           nhit_sel=widgets.IntText(value=0, description='NHit cut:')):\n",
    "    f = quick_display.open_file(os.path.join(out_datapath,filename))\n",
    "    if len(f['events']):\n",
    "        mask = f['events']['nhit'] > nhit_sel\n",
    "        if abs(event_id) < np.sum(mask):\n",
    "            quick_display.generate_plots(f['events'][mask][event_id], f, geom)\n",
    "        else:\n",
    "            print('reached end of file')\n",
    "    else:\n",
    "        print('no events in file')"
   ]
  },
  {
   "cell_type": "code",
   "execution_count": null,
   "metadata": {},
   "outputs": [],
   "source": []
  }
 ],
 "metadata": {
  "kernelspec": {
   "display_name": "MyEnv",
   "language": "python",
   "name": "myenv"
  },
  "language_info": {
   "codemirror_mode": {
    "name": "ipython",
    "version": 3
   },
   "file_extension": ".py",
   "mimetype": "text/x-python",
   "name": "python",
   "nbconvert_exporter": "python",
   "pygments_lexer": "ipython3",
   "version": "3.7.9"
  }
 },
 "nbformat": 4,
 "nbformat_minor": 4
}
